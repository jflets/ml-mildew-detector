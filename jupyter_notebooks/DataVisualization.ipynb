{
 "cells": [
  {
   "cell_type": "markdown",
   "metadata": {},
   "source": [
    "# Data Visualization for Mildew Detection in Cherry Leaves"
   ]
  },
  {
   "cell_type": "markdown",
   "metadata": {},
   "source": [
    "## Objectives\n",
    "* Understand the visual differences between healthy and powdery mildew-infected cherry leaves.\n",
    "* Analyze the distribution of image sizes and ensure the dataset is balanced.\n",
    "* Prepare visual content that can be used for the dashboard or further analysis.\n",
    "\n",
    "## Inputs\n",
    "* Preprocessed dataset with images categorized into healthy and powdery mildew classes.\n",
    "\n",
    "## Outputs\n",
    "* Visualizations including sample images, average images, and variability images for each class.\n",
    "* Any intermediate files or plots saved for future reference or use in presentations.\n",
    "\n",
    "## Additional Comments\n",
    "* Visualization is key to understanding the data and guiding the model development process.\n",
    "\n",
    "---"
   ]
  },
  {
   "cell_type": "markdown",
   "metadata": {},
   "source": [
    "# Set Data Directory"
   ]
  },
  {
   "cell_type": "markdown",
   "metadata": {},
   "source": [
    "## Import libraries"
   ]
  },
  {
   "cell_type": "code",
   "execution_count": null,
   "metadata": {},
   "outputs": [],
   "source": [
    "import matplotlib.pyplot as plt\n",
    "from matplotlib.image import imread\n",
    "import seaborn as sns\n",
    "import numpy as np\n",
    "import os\n",
    "from PIL import Image"
   ]
  },
  {
   "cell_type": "markdown",
   "metadata": {},
   "source": [
    "## Set working directory"
   ]
  },
  {
   "cell_type": "code",
   "execution_count": null,
   "metadata": {},
   "outputs": [],
   "source": [
    "current_dir = os.getcwd()\n",
    "print(\"Original working directory:\", current_dir)"
   ]
  },
  {
   "cell_type": "code",
   "execution_count": null,
   "metadata": {},
   "outputs": [],
   "source": [
    "# Change the current working directory to the project root\n",
    "os.chdir(os.path.abspath(os.path.join(current_dir, relative_path_to_root)))\n",
    "\n",
    "# Verify the change\n",
    "print(\"New current working directory:\", os.getcwd())"
   ]
  },
  {
   "cell_type": "markdown",
   "metadata": {},
   "source": [
    "## Set input directories"
   ]
  },
  {
   "cell_type": "code",
   "execution_count": null,
   "metadata": {},
   "outputs": [],
   "source": [
    "base_path = \"inputs/cherry_leaves_dataset/cherry-leaves\"\n",
    "train_path = os.path.join(base_path, 'train')\n",
    "val_path = os.path.join(base_path, 'validation')\n",
    "test_path = os.path.join(base_path, 'test')\n",
    "categories = ['healthy', 'powdery_mildew']"
   ]
  },
  {
   "cell_type": "markdown",
   "metadata": {},
   "source": [
    "## Set output directory"
   ]
  },
  {
   "cell_type": "code",
   "execution_count": null,
   "metadata": {},
   "outputs": [],
   "source": [
    "# Define the base output directory name\n",
    "output_base_path = \"outputs/data_visualization\"\n",
    "\n",
    "# Optional: add versioning or categorization\n",
    "version = \"v1\"\n",
    "output_dir = os.path.join(output_base_path, version)\n",
    "\n",
    "# Create the output directory if it doesn't exist\n",
    "if not os.path.exists(output_dir):\n",
    "    os.makedirs(output_dir)\n",
    "    print(f\"Created output directory: {output_dir}\")\n",
    "else:\n",
    "    print(f\"Output directory already exists: {output_dir}\")\n"
   ]
  },
  {
   "cell_type": "markdown",
   "metadata": {},
   "source": [
    "## Set Label Names"
   ]
  },
  {
   "cell_type": "code",
   "execution_count": null,
   "metadata": {},
   "outputs": [],
   "source": [
    "# Set the labels by listing the directories in your train_path\n",
    "labels = os.listdir(train_path)\n",
    "print('Labels for the images:', labels)"
   ]
  },
  {
   "cell_type": "markdown",
   "metadata": {},
   "source": [
    "---"
   ]
  }
 ],
 "metadata": {
  "kernelspec": {
   "display_name": ".venv",
   "language": "python",
   "name": "python3"
  },
  "language_info": {
   "name": "python",
   "version": "3.11.7"
  }
 },
 "nbformat": 4,
 "nbformat_minor": 2
}
