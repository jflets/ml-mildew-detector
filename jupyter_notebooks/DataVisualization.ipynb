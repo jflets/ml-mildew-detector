{
 "cells": [
  {
   "cell_type": "markdown",
   "metadata": {},
   "source": [
    "# Data Visualization for Mildew Detection in Cherry Leaves"
   ]
  },
  {
   "cell_type": "markdown",
   "metadata": {},
   "source": [
    "## Objectives\n",
    "* Understand the visual differences between healthy and powdery mildew-infected cherry leaves.\n",
    "* Analyze the distribution of image sizes and ensure the dataset is balanced.\n",
    "* Prepare visual content that can be used for the dashboard or further analysis.\n",
    "\n",
    "## Inputs\n",
    "* Preprocessed dataset with images categorized into healthy and powdery mildew classes.\n",
    "\n",
    "## Outputs\n",
    "* Visualizations including sample images, average images, and variability images for each class.\n",
    "* Any intermediate files or plots saved for future reference or use in presentations.\n",
    "\n",
    "## Additional Comments\n",
    "* Visualization is key to understanding the data and guiding the model development process.\n",
    "\n",
    "---"
   ]
  },
  {
   "cell_type": "markdown",
   "metadata": {},
   "source": [
    "# Set Data Directory"
   ]
  },
  {
   "cell_type": "markdown",
   "metadata": {},
   "source": [
    "## Import libraries"
   ]
  },
  {
   "cell_type": "code",
   "execution_count": null,
   "metadata": {},
   "outputs": [],
   "source": [
    "import matplotlib.pyplot as plt\n",
    "from matplotlib.image import imread\n",
    "import seaborn as sns\n",
    "import numpy as np\n",
    "import os\n",
    "from PIL import Image"
   ]
  },
  {
   "cell_type": "markdown",
   "metadata": {},
   "source": [
    "## Set working directory"
   ]
  },
  {
   "cell_type": "code",
   "execution_count": null,
   "metadata": {},
   "outputs": [],
   "source": [
    "current_dir = os.getcwd()\n",
    "print(\"Original working directory:\", current_dir)"
   ]
  },
  {
   "cell_type": "code",
   "execution_count": null,
   "metadata": {},
   "outputs": [],
   "source": [
    "# Change the current working directory to the project root\n",
    "relative_path_to_root = '..'\n",
    "os.chdir(os.path.abspath(os.path.join(current_dir, relative_path_to_root)))\n",
    "\n",
    "# Verify the change\n",
    "print(\"New current working directory:\", os.getcwd())"
   ]
  },
  {
   "cell_type": "markdown",
   "metadata": {},
   "source": [
    "## Set input directories"
   ]
  },
  {
   "cell_type": "code",
   "execution_count": null,
   "metadata": {},
   "outputs": [],
   "source": [
    "base_path = \"inputs/cherry_leaves_dataset/cherry-leaves\"\n",
    "train_path = os.path.join(base_path, 'train')\n",
    "val_path = os.path.join(base_path, 'validation')\n",
    "test_path = os.path.join(base_path, 'test')\n",
    "categories = ['healthy', 'powdery_mildew']"
   ]
  },
  {
   "cell_type": "markdown",
   "metadata": {},
   "source": [
    "## Set output directory"
   ]
  },
  {
   "cell_type": "code",
   "execution_count": null,
   "metadata": {},
   "outputs": [],
   "source": [
    "# Define the base output directory name\n",
    "output_base_path = \"outputs/data_visualization\"\n",
    "\n",
    "# Optional: add versioning or categorization\n",
    "version = \"v1\"\n",
    "output_dir = os.path.join(output_base_path, version)\n",
    "\n",
    "# Create the output directory if it doesn't exist\n",
    "if not os.path.exists(output_dir):\n",
    "    os.makedirs(output_dir)\n",
    "    print(f\"Created output directory: {output_dir}\")\n",
    "else:\n",
    "    print(f\"Output directory already exists: {output_dir}\")\n"
   ]
  },
  {
   "cell_type": "markdown",
   "metadata": {},
   "source": [
    "## Set Label Names"
   ]
  },
  {
   "cell_type": "code",
   "execution_count": null,
   "metadata": {},
   "outputs": [],
   "source": [
    "# Set the labels by listing the directories in your train_path\n",
    "labels = os.listdir(train_path)\n",
    "print('Labels for the images:', labels)"
   ]
  },
  {
   "cell_type": "markdown",
   "metadata": {},
   "source": [
    "---"
   ]
  },
  {
   "cell_type": "markdown",
   "metadata": {},
   "source": [
    "# Data visualisation of image data"
   ]
  },
  {
   "cell_type": "markdown",
   "metadata": {},
   "source": [
    "## Image shape "
   ]
  },
  {
   "cell_type": "markdown",
   "metadata": {},
   "source": [
    "Analyze the image size distribution"
   ]
  },
  {
   "cell_type": "code",
   "execution_count": null,
   "metadata": {},
   "outputs": [],
   "source": [
    "# Initialize lists to store dimensions\n",
    "dim1, dim2 = [], []\n",
    "\n",
    "# Iterate over each label in your dataset and collect image dimensions\n",
    "for label in labels:\n",
    "    label_path = os.path.join(train_path, label)\n",
    "    for image_filename in os.listdir(label_path):\n",
    "        img_path = os.path.join(label_path, image_filename)\n",
    "        img = imread(img_path)\n",
    "        d1, d2 = img.shape[:2]  # Only need width and height\n",
    "        dim1.append(d1)\n",
    "        dim2.append(d2)\n",
    "\n",
    "# Visualize the distribution of image dimensions\n",
    "sns.set_style(\"whitegrid\")\n",
    "plt.figure(figsize=(10, 6))\n",
    "sns.scatterplot(x=dim2, y=dim1, alpha=0.5)\n",
    "plt.xlabel(\"Width (pixels)\")\n",
    "plt.ylabel(\"Height (pixels)\")\n",
    "plt.title(\"Distribution of Image Dimensions\")\n",
    "\n",
    "# Calculate and display the average dimensions\n",
    "dim1_mean, dim2_mean = int(np.mean(dim1)), int(np.mean(dim2))\n",
    "plt.axvline(x=dim2_mean, color='r', linestyle='--', label=f'Average Width: {dim2_mean}')\n",
    "plt.axhline(y=dim1_mean, color='b', linestyle='--', label=f'Average Height: {dim1_mean}')\n",
    "plt.legend()\n",
    "\n",
    "plt.show()\n",
    "\n",
    "print(f\"Average Width: {dim2_mean} pixels \\nAverage Height: {dim1_mean} pixels\")"
   ]
  },
  {
   "cell_type": "markdown",
   "metadata": {},
   "source": [
    "Save the average image dimensions"
   ]
  },
  {
   "cell_type": "code",
   "execution_count": null,
   "metadata": {},
   "outputs": [],
   "source": [
    "\n",
    "image_shape = (dim1_mean, dim2_mean, 3)"
   ]
  },
  {
   "cell_type": "markdown",
   "metadata": {},
   "source": [
    "Save the image shape for future use"
   ]
  },
  {
   "cell_type": "code",
   "execution_count": null,
   "metadata": {},
   "outputs": [],
   "source": [
    "import joblib\n",
    "joblib.dump(value=image_shape, filename=os.path.join(output_dir, \"average_image_shape.pkl\"))"
   ]
  },
  {
   "cell_type": "markdown",
   "metadata": {},
   "source": [
    "## Visualize the different sample images"
   ]
  },
  {
   "cell_type": "code",
   "execution_count": null,
   "metadata": {},
   "outputs": [],
   "source": [
    "def display_samples_from_each_category(train_path, categories, samples_per_category=5):\n",
    "    \"\"\"\n",
    "    Display a grid of sample images from each specified category.\n",
    "    \n",
    "    Parameters:\n",
    "    - train_path (str): The path to the training dataset.\n",
    "    - categories (list of str): A list of category names.\n",
    "    - samples_per_category (int): The number of sample images to display per category.\n",
    "    \"\"\"\n",
    "    \n",
    "    fig, axes = plt.subplots(nrows=len(categories), ncols=samples_per_category, figsize=(samples_per_category * 2, len(categories) * 2))\n",
    "    \n",
    "    for i, category in enumerate(categories):\n",
    "        sample_images = os.listdir(os.path.join(train_path, category))[:samples_per_category]\n",
    "        \n",
    "        for j, image_name in enumerate(sample_images):\n",
    "            img_path = os.path.join(train_path, category, image_name)\n",
    "            img = Image.open(img_path)\n",
    "            ax = axes[i, j] if len(categories) > 1 else axes[j]\n",
    "            ax.imshow(img)\n",
    "            ax.axis('off')\n",
    "            ax.set_title(f\"{category}\\n{image_name}\")\n",
    "    \n",
    "    plt.tight_layout()\n",
    "    plt.show()\n",
    "\n",
    "# Call the function with the path to your training data and the list of categories\n",
    "display_samples_from_each_category(train_path, categories)"
   ]
  },
  {
   "cell_type": "markdown",
   "metadata": {},
   "source": [
    "---"
   ]
  }
 ],
 "metadata": {
  "kernelspec": {
   "display_name": ".venv",
   "language": "python",
   "name": "python3"
  },
  "language_info": {
   "name": "python",
   "version": "3.11.7"
  }
 },
 "nbformat": 4,
 "nbformat_minor": 2
}
