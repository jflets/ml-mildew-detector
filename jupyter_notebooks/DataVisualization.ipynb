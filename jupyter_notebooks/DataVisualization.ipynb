{
 "cells": [
  {
   "cell_type": "markdown",
   "metadata": {},
   "source": [
    "# Data Visualization for Mildew Detection in Cherry Leaves"
   ]
  },
  {
   "cell_type": "markdown",
   "metadata": {},
   "source": [
    "## Objectives\n",
    "* Understand the visual differences between healthy and powdery mildew-infected cherry leaves.\n",
    "* Analyze the distribution of image sizes and ensure the dataset is balanced.\n",
    "* Prepare visual content that can be used for the dashboard or further analysis.\n",
    "\n",
    "## Inputs\n",
    "* Preprocessed dataset with images categorized into healthy and powdery mildew classes.\n",
    "\n",
    "## Outputs\n",
    "* Visualizations including sample images, average images, and variability images for each class.\n",
    "* Any intermediate files or plots saved for future reference or use in presentations.\n",
    "\n",
    "## Additional Comments\n",
    "* Visualization is key to understanding the data and guiding the model development process.\n",
    "\n",
    "---"
   ]
  },
  {
   "cell_type": "markdown",
   "metadata": {},
   "source": [
    "# Set Data Directory"
   ]
  },
  {
   "cell_type": "markdown",
   "metadata": {},
   "source": [
    "## Import libraries"
   ]
  },
  {
   "cell_type": "code",
   "execution_count": null,
   "metadata": {},
   "outputs": [],
   "source": [
    "import matplotlib.pyplot as plt\n",
    "from matplotlib.pyplot import imsave\n",
    "from matplotlib.image import imread\n",
    "import seaborn as sns\n",
    "import numpy as np\n",
    "import os\n",
    "from PIL import Image"
   ]
  },
  {
   "cell_type": "markdown",
   "metadata": {},
   "source": [
    "## Set working directory"
   ]
  },
  {
   "cell_type": "code",
   "execution_count": null,
   "metadata": {},
   "outputs": [],
   "source": [
    "current_dir = os.getcwd()\n",
    "print(\"Original working directory:\", current_dir)"
   ]
  },
  {
   "cell_type": "code",
   "execution_count": null,
   "metadata": {},
   "outputs": [],
   "source": [
    "# Change the current working directory to the project root\n",
    "relative_path_to_root = '..'\n",
    "os.chdir(os.path.abspath(os.path.join(current_dir, relative_path_to_root)))\n",
    "\n",
    "# Verify the change\n",
    "print(\"New current working directory:\", os.getcwd())"
   ]
  },
  {
   "cell_type": "markdown",
   "metadata": {},
   "source": [
    "## Set input directories"
   ]
  },
  {
   "cell_type": "code",
   "execution_count": null,
   "metadata": {},
   "outputs": [],
   "source": [
    "base_path = \"inputs/cherry_leaves_dataset/cherry-leaves\"\n",
    "train_path = os.path.join(base_path, 'train')\n",
    "val_path = os.path.join(base_path, 'validation')\n",
    "test_path = os.path.join(base_path, 'test')\n",
    "categories = ['healthy', 'powdery_mildew']"
   ]
  },
  {
   "cell_type": "markdown",
   "metadata": {},
   "source": [
    "## Set output directory"
   ]
  },
  {
   "cell_type": "code",
   "execution_count": null,
   "metadata": {},
   "outputs": [],
   "source": [
    "# Define the base output directory name\n",
    "output_base_path = \"outputs/data_visualization\"\n",
    "\n",
    "# Optional: add versioning or categorization\n",
    "version = \"v1\"\n",
    "output_dir = os.path.join(output_base_path, version)\n",
    "\n",
    "# Create the output directory if it doesn't exist\n",
    "if not os.path.exists(output_dir):\n",
    "    os.makedirs(output_dir)\n",
    "    print(f\"Created output directory: {output_dir}\")\n",
    "else:\n",
    "    print(f\"Output directory already exists: {output_dir}\")\n",
    "\n",
    "# Define and create a subdirectory for generated images within the output directory\n",
    "generated_images_dir = os.path.join(output_dir, \"generated_images\")\n",
    "if not os.path.exists(generated_images_dir):\n",
    "    os.makedirs(generated_images_dir)\n",
    "    print(f\"Created generated images directory: {generated_images_dir}\")\n",
    "else:\n",
    "    print(f\"Generated images directory already exists: {generated_images_dir}\")"
   ]
  },
  {
   "cell_type": "markdown",
   "metadata": {},
   "source": [
    "## Set Label Names"
   ]
  },
  {
   "cell_type": "code",
   "execution_count": null,
   "metadata": {},
   "outputs": [],
   "source": [
    "# Set the labels by listing the directories in your train_path\n",
    "labels = os.listdir(train_path)\n",
    "print('Labels for the images:', labels)"
   ]
  },
  {
   "cell_type": "markdown",
   "metadata": {},
   "source": [
    "---"
   ]
  },
  {
   "cell_type": "markdown",
   "metadata": {},
   "source": [
    "# Data visualisation of image data"
   ]
  },
  {
   "cell_type": "markdown",
   "metadata": {},
   "source": [
    "## Image shape "
   ]
  },
  {
   "cell_type": "markdown",
   "metadata": {},
   "source": [
    "Analyze the image size distribution"
   ]
  },
  {
   "cell_type": "code",
   "execution_count": null,
   "metadata": {},
   "outputs": [],
   "source": [
    "# Initialize lists to store dimensions\n",
    "dim1, dim2 = [], []\n",
    "\n",
    "# Iterate over each label in your dataset and collect image dimensions\n",
    "for label in labels:\n",
    "    label_path = os.path.join(train_path, label)\n",
    "    for image_filename in os.listdir(label_path):\n",
    "        img_path = os.path.join(label_path, image_filename)\n",
    "        img = imread(img_path)\n",
    "        d1, d2 = img.shape[:2]  # Only need width and height\n",
    "        dim1.append(d1)\n",
    "        dim2.append(d2)\n",
    "\n",
    "# Visualize the distribution of image dimensions\n",
    "sns.set_style(\"whitegrid\")\n",
    "plt.figure(figsize=(10, 6))\n",
    "sns.scatterplot(x=dim2, y=dim1, alpha=0.5)\n",
    "plt.xlabel(\"Width (pixels)\")\n",
    "plt.ylabel(\"Height (pixels)\")\n",
    "plt.title(\"Distribution of Image Dimensions\")\n",
    "\n",
    "# Calculate and display the average dimensions\n",
    "dim1_mean, dim2_mean = int(np.mean(dim1)), int(np.mean(dim2))\n",
    "plt.axvline(x=dim2_mean, color='r', linestyle='--', label=f'Average Width: {dim2_mean}')\n",
    "plt.axhline(y=dim1_mean, color='b', linestyle='--', label=f'Average Height: {dim1_mean}')\n",
    "plt.legend()\n",
    "\n",
    "plt.show()\n",
    "\n",
    "print(f\"Average Width: {dim2_mean} pixels \\nAverage Height: {dim1_mean} pixels\")"
   ]
  },
  {
   "cell_type": "markdown",
   "metadata": {},
   "source": [
    "Save the average image dimensions"
   ]
  },
  {
   "cell_type": "code",
   "execution_count": null,
   "metadata": {},
   "outputs": [],
   "source": [
    "\n",
    "image_shape = (dim1_mean, dim2_mean, 3)\n",
    "image_shape"
   ]
  },
  {
   "cell_type": "markdown",
   "metadata": {},
   "source": [
    "Save the image shape for future use"
   ]
  },
  {
   "cell_type": "code",
   "execution_count": null,
   "metadata": {},
   "outputs": [],
   "source": [
    "import joblib\n",
    "joblib.dump(value=image_shape, filename=os.path.join(output_dir, \"average_image_shape.pkl\"))"
   ]
  },
  {
   "cell_type": "markdown",
   "metadata": {},
   "source": [
    "## Visualize the different sample images"
   ]
  },
  {
   "cell_type": "code",
   "execution_count": null,
   "metadata": {},
   "outputs": [],
   "source": [
    "def display_samples_from_each_category(train_path, categories, samples_per_category=5, save=True):\n",
    "    \"\"\"\n",
    "    Display and optionally save a grid of sample images from each specified category without showing image names.\n",
    "    \n",
    "    Parameters:\n",
    "    - train_path (str): The path to the training dataset.\n",
    "    - categories (list of str): A list of category names.\n",
    "    - samples_per_category (int): The number of sample images to display per category.\n",
    "    - save (bool): Whether to save the displayed images. Defaults to True.\n",
    "    \"\"\"\n",
    "    \n",
    "    for category in categories:\n",
    "        fig, axes = plt.subplots(nrows=1, ncols=samples_per_category, figsize=(samples_per_category * 2, 2))\n",
    "        sample_images = os.listdir(os.path.join(train_path, category))[:samples_per_category]\n",
    "        \n",
    "        for j, image_name in enumerate(sample_images):\n",
    "            img_path = os.path.join(train_path, category, image_name)\n",
    "            img = Image.open(img_path)\n",
    "            ax = axes[j]\n",
    "            ax.imshow(img)\n",
    "            ax.axis('off')\n",
    "            ax.set_title(f\"{category}\")\n",
    "        \n",
    "        plt.tight_layout()\n",
    "        \n",
    "        # Optionally save the grid image\n",
    "        if save:\n",
    "            save_path = os.path.join(generated_images_dir, f\"{category}_samples_grid.png\")\n",
    "            plt.savefig(save_path)\n",
    "        \n",
    "        plt.show()\n",
    "\n",
    "display_samples_from_each_category(train_path, categories)"
   ]
  },
  {
   "cell_type": "markdown",
   "metadata": {},
   "source": [
    "---"
   ]
  },
  {
   "cell_type": "markdown",
   "metadata": {},
   "source": [
    "## Average and variability of images  per label"
   ]
  },
  {
   "cell_type": "markdown",
   "metadata": {},
   "source": [
    "### Function to load the average image and its variability for a given category"
   ]
  },
  {
   "cell_type": "code",
   "execution_count": null,
   "metadata": {},
   "outputs": [],
   "source": [
    "from tensorflow.keras.preprocessing.image import img_to_array, load_img\n",
    "\n",
    "\n",
    "def compute_average_and_variability_images(category_path, image_size, category_name, generated_images_dir):\n",
    "    \"\"\"\n",
    "    Compute the average image and its variability for a given category and save them.\n",
    "    \n",
    "    Parameters:\n",
    "    - category_path (str): The path to the category directory.\n",
    "    - image_size (tuple): The target size to resize images.\n",
    "    - category_name (str): The name of the category, used for saving the images.\n",
    "    \"\"\"\n",
    "    image_list = []\n",
    "    \n",
    "    # Load each image, resize it if necessary, and append it to the list\n",
    "    for img_name in os.listdir(category_path):\n",
    "        img_path = os.path.join(category_path, img_name)\n",
    "        img = load_img(img_path, target_size=image_size)\n",
    "        img_array = img_to_array(img) / 255.0  # Normalize the image\n",
    "        image_list.append(img_array)\n",
    "        \n",
    "    # Stack images along a new dimension (shape: (num_images, height, width, channels))\n",
    "    image_stack = np.stack(image_list, axis=0)\n",
    "    \n",
    "    # Compute the average and the standard deviation along the stack\n",
    "    avg_image = np.mean(image_stack, axis=0)\n",
    "    std_image = np.std(image_stack, axis=0)\n",
    "    \n",
    "    # Save the average and variability images\n",
    "    imsave(os.path.join(generated_images_dir, f\"{category_name}_average.png\"), avg_image)\n",
    "    imsave(os.path.join(generated_images_dir, f\"{category_name}_variability.png\"), std_image)\n",
    "    \n",
    "    return avg_image, std_image\n"
   ]
  },
  {
   "cell_type": "markdown",
   "metadata": {},
   "source": [
    "Display the average image and its variability for each specified category"
   ]
  },
  {
   "cell_type": "code",
   "execution_count": null,
   "metadata": {},
   "outputs": [],
   "source": [
    "def display_average_and_variability_images(train_path, categories, generated_images_dir, image_size=(256, 256)):\n",
    "    \"\"\"\n",
    "    Parameters:\n",
    "    - train_path (str): The path to the training dataset.\n",
    "    - categories (list of str): A list of category names.\n",
    "    - generated_images_dir (str): The directory to save the generated images.\n",
    "    - image_size (tuple): The target size to resize images (default: (256, 256)).\n",
    "    \"\"\"\n",
    "    \n",
    "    fig, axes = plt.subplots(nrows=len(categories), ncols=2, figsize=(10, 5 * len(categories)))\n",
    "\n",
    "    for i, category in enumerate(categories):\n",
    "        category_path = os.path.join(train_path, category)\n",
    "        avg_image, var_image = compute_average_and_variability_images(category_path, image_size, category, generated_images_dir)\n",
    "        \n",
    "        # Display average image\n",
    "        ax_avg = axes[i, 0]\n",
    "        ax_avg.imshow(avg_image)\n",
    "        ax_avg.set_title(f'Average Image - {category}')\n",
    "        ax_avg.axis('off')\n",
    "        \n",
    "        # Display variability image\n",
    "        ax_var = axes[i, 1]\n",
    "        ax_var.imshow(var_image)\n",
    "        ax_var.set_title(f'Variability Image - {category}')\n",
    "        ax_var.axis('off')\n",
    "\n",
    "    plt.tight_layout()\n",
    "    plt.show()\n"
   ]
  },
  {
   "cell_type": "markdown",
   "metadata": {},
   "source": [
    "Set the target image size"
   ]
  },
  {
   "cell_type": "code",
   "execution_count": null,
   "metadata": {},
   "outputs": [],
   "source": [
    "target_image_size = (256, 256)"
   ]
  },
  {
   "cell_type": "markdown",
   "metadata": {},
   "source": [
    "Call the function to display the average and variability images"
   ]
  },
  {
   "cell_type": "code",
   "execution_count": null,
   "metadata": {},
   "outputs": [],
   "source": [
    "display_average_and_variability_images(train_path, categories, image_size=target_image_size, generated_images_dir=generated_images_dir)"
   ]
  },
  {
   "cell_type": "markdown",
   "metadata": {},
   "source": [
    "---"
   ]
  },
  {
   "cell_type": "markdown",
   "metadata": {},
   "source": [
    "## Difference between average healthy leaf and average mildew covered leaf images"
   ]
  },
  {
   "cell_type": "markdown",
   "metadata": {},
   "source": [
    "Calculate and show difference between averages"
   ]
  },
  {
   "cell_type": "code",
   "execution_count": null,
   "metadata": {},
   "outputs": [],
   "source": [
    "def normalize_image(image):\n",
    "    image_min = image.min()\n",
    "    image_max = image.max()\n",
    "    return (image - image_min) / (image_max - image_min)\n",
    "\n",
    "def show_difference_between_averages(train_path, categories, generated_images_dir, image_size=(256, 256)):\n",
    "    avg_images = {}\n",
    "    # Compute average for each category\n",
    "    for category in categories:\n",
    "        category_path = os.path.join(train_path, category)\n",
    "        # Assuming compute_average_and_variability_images now also saves the images\n",
    "        avg_image, _ = compute_average_and_variability_images(category_path, image_size, category, generated_images_dir)\n",
    "        avg_images[category] = avg_image\n",
    "    difference_image = avg_images['healthy'] - avg_images['powdery_mildew']\n",
    "\n",
    "    # Normalize the difference image\n",
    "    normalized_difference_image = normalize_image(difference_image)\n",
    "\n",
    "    # Save the normalized difference image\n",
    "    difference_image_filename = \"difference_between_averages.png\"\n",
    "    imsave(os.path.join(generated_images_dir, difference_image_filename), normalized_difference_image)\n",
    "\n",
    "    # Plotting the difference\n",
    "    plt.figure(figsize=(15, 5))\n",
    "    plt.subplot(1, 3, 1)\n",
    "    plt.imshow(avg_images['healthy'])\n",
    "    plt.title('Average Healthy')\n",
    "    plt.axis('off')\n",
    "\n",
    "    plt.subplot(1, 3, 2)\n",
    "    plt.imshow(avg_images['powdery_mildew'])\n",
    "    plt.title('Average Powdery Mildew')\n",
    "    plt.axis('off')\n",
    "\n",
    "    plt.subplot(1, 3, 3)\n",
    "    plt.imshow(normalized_difference_image)\n",
    "    plt.title('Difference')\n",
    "    plt.axis('off')\n",
    "\n",
    "    # Display the plot\n",
    "    plt.tight_layout()\n",
    "    plt.show()\n",
    "\n",
    "show_difference_between_averages(train_path, categories, generated_images_dir, image_size=(256, 256))\n"
   ]
  },
  {
   "cell_type": "markdown",
   "metadata": {},
   "source": [
    "## Image Montage"
   ]
  },
  {
   "cell_type": "code",
   "execution_count": null,
   "metadata": {},
   "outputs": [],
   "source": [
    "def create_image_montage(train_path, categories, generated_images_dir, samples_per_category=5, image_size=(256, 256)):\n",
    "    for category in categories:\n",
    "        fig, axes = plt.subplots(1, samples_per_category, figsize=(20, 5))\n",
    "        sample_images = os.listdir(os.path.join(train_path, category))[:samples_per_category]\n",
    "        for i, sample in enumerate(sample_images):\n",
    "            img_path = os.path.join(train_path, category, sample)\n",
    "            img = Image.open(img_path).resize(image_size)\n",
    "            axes[i].imshow(img)\n",
    "            axes[i].axis('off')\n",
    "        plt.tight_layout()\n",
    "        montage_filename = f\"{category}_montage.png\"\n",
    "        plt.savefig(os.path.join(generated_images_dir, montage_filename))\n",
    "        plt.close(fig)\n"
   ]
  },
  {
   "cell_type": "markdown",
   "metadata": {},
   "source": [
    "Create image montage"
   ]
  },
  {
   "cell_type": "code",
   "execution_count": null,
   "metadata": {},
   "outputs": [],
   "source": [
    "create_image_montage(train_path, categories, generated_images_dir,)"
   ]
  },
  {
   "cell_type": "markdown",
   "metadata": {},
   "source": [
    "---"
   ]
  }
 ],
 "metadata": {
  "kernelspec": {
   "display_name": ".venv",
   "language": "python",
   "name": "python3"
  },
  "language_info": {
   "codemirror_mode": {
    "name": "ipython",
    "version": 3
   },
   "file_extension": ".py",
   "mimetype": "text/x-python",
   "name": "python",
   "nbconvert_exporter": "python",
   "pygments_lexer": "ipython3",
   "version": "3.11.7"
  }
 },
 "nbformat": 4,
 "nbformat_minor": 2
}
