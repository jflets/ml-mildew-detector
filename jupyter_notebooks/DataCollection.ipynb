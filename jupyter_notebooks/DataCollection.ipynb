{
 "cells": [
  {
   "cell_type": "markdown",
   "metadata": {},
   "source": [
    "# Data Collection for Mildew Detection in Cherry Leaves"
   ]
  },
  {
   "cell_type": "markdown",
   "metadata": {},
   "source": [
    "## Objectives\n",
    "* Fetch the dataset of cherry leaf images from the provided source and examine its structure.\n",
    "* Save the raw image data in an organized directory structure for easy access in later stages.\n",
    "\n",
    "## Inputs\n",
    "* Dataset URL or access key if the dataset is hosted on platforms like Kaggle.\n",
    "\n",
    "## Outputs\n",
    "* Directory structure containing the raw dataset divided into training, validation, and test sets.\n",
    "\n",
    "## Additional Comments\n",
    "* Ensure compliance with any data use agreements or NDAs associated with the dataset.\n",
    "---"
   ]
  },
  {
   "cell_type": "markdown",
   "metadata": {},
   "source": [
    "# Import packages\n"
   ]
  },
  {
   "cell_type": "code",
   "execution_count": 1,
   "metadata": {},
   "outputs": [
    {
     "name": "stdout",
     "output_type": "stream",
     "text": [
      "Requirement already satisfied: absl-py==2.1.0 in /Users/jordanfletorides/Desktop/github repos/ml-mildew-detector/.venv/lib/python3.11/site-packages (from -r /Users/jordanfletorides/Desktop/github repos/ml-mildew-detector/requirements.txt (line 1)) (2.1.0)\n",
      "Requirement already satisfied: altair==5.2.0 in /Users/jordanfletorides/Desktop/github repos/ml-mildew-detector/.venv/lib/python3.11/site-packages (from -r /Users/jordanfletorides/Desktop/github repos/ml-mildew-detector/requirements.txt (line 2)) (5.2.0)\n",
      "Requirement already satisfied: anyio==4.3.0 in /Users/jordanfletorides/Desktop/github repos/ml-mildew-detector/.venv/lib/python3.11/site-packages (from -r /Users/jordanfletorides/Desktop/github repos/ml-mildew-detector/requirements.txt (line 3)) (4.3.0)\n",
      "Requirement already satisfied: appnope==0.1.4 in /Users/jordanfletorides/Desktop/github repos/ml-mildew-detector/.venv/lib/python3.11/site-packages (from -r /Users/jordanfletorides/Desktop/github repos/ml-mildew-detector/requirements.txt (line 4)) (0.1.4)\n",
      "Requirement already satisfied: argon2-cffi==23.1.0 in /Users/jordanfletorides/Desktop/github repos/ml-mildew-detector/.venv/lib/python3.11/site-packages (from -r /Users/jordanfletorides/Desktop/github repos/ml-mildew-detector/requirements.txt (line 5)) (23.1.0)\n",
      "Requirement already satisfied: argon2-cffi-bindings==21.2.0 in /Users/jordanfletorides/Desktop/github repos/ml-mildew-detector/.venv/lib/python3.11/site-packages (from -r /Users/jordanfletorides/Desktop/github repos/ml-mildew-detector/requirements.txt (line 6)) (21.2.0)\n",
      "Requirement already satisfied: arrow==1.3.0 in /Users/jordanfletorides/Desktop/github repos/ml-mildew-detector/.venv/lib/python3.11/site-packages (from -r /Users/jordanfletorides/Desktop/github repos/ml-mildew-detector/requirements.txt (line 7)) (1.3.0)\n",
      "Requirement already satisfied: asttokens==2.4.1 in /Users/jordanfletorides/Desktop/github repos/ml-mildew-detector/.venv/lib/python3.11/site-packages (from -r /Users/jordanfletorides/Desktop/github repos/ml-mildew-detector/requirements.txt (line 8)) (2.4.1)\n",
      "Requirement already satisfied: astunparse==1.6.3 in /Users/jordanfletorides/Desktop/github repos/ml-mildew-detector/.venv/lib/python3.11/site-packages (from -r /Users/jordanfletorides/Desktop/github repos/ml-mildew-detector/requirements.txt (line 9)) (1.6.3)\n",
      "Requirement already satisfied: async-lru==2.0.4 in /Users/jordanfletorides/Desktop/github repos/ml-mildew-detector/.venv/lib/python3.11/site-packages (from -r /Users/jordanfletorides/Desktop/github repos/ml-mildew-detector/requirements.txt (line 10)) (2.0.4)\n",
      "Requirement already satisfied: attrs==23.2.0 in /Users/jordanfletorides/Desktop/github repos/ml-mildew-detector/.venv/lib/python3.11/site-packages (from -r /Users/jordanfletorides/Desktop/github repos/ml-mildew-detector/requirements.txt (line 11)) (23.2.0)\n",
      "Requirement already satisfied: Babel==2.14.0 in /Users/jordanfletorides/Desktop/github repos/ml-mildew-detector/.venv/lib/python3.11/site-packages (from -r /Users/jordanfletorides/Desktop/github repos/ml-mildew-detector/requirements.txt (line 12)) (2.14.0)\n",
      "Requirement already satisfied: beautifulsoup4==4.12.3 in /Users/jordanfletorides/Desktop/github repos/ml-mildew-detector/.venv/lib/python3.11/site-packages (from -r /Users/jordanfletorides/Desktop/github repos/ml-mildew-detector/requirements.txt (line 13)) (4.12.3)\n",
      "Requirement already satisfied: bleach==6.1.0 in /Users/jordanfletorides/Desktop/github repos/ml-mildew-detector/.venv/lib/python3.11/site-packages (from -r /Users/jordanfletorides/Desktop/github repos/ml-mildew-detector/requirements.txt (line 14)) (6.1.0)\n",
      "Requirement already satisfied: blinker==1.7.0 in /Users/jordanfletorides/Desktop/github repos/ml-mildew-detector/.venv/lib/python3.11/site-packages (from -r /Users/jordanfletorides/Desktop/github repos/ml-mildew-detector/requirements.txt (line 15)) (1.7.0)\n",
      "Requirement already satisfied: certifi==2024.2.2 in /Users/jordanfletorides/Desktop/github repos/ml-mildew-detector/.venv/lib/python3.11/site-packages (from -r /Users/jordanfletorides/Desktop/github repos/ml-mildew-detector/requirements.txt (line 16)) (2024.2.2)\n",
      "Requirement already satisfied: cffi==1.16.0 in /Users/jordanfletorides/Desktop/github repos/ml-mildew-detector/.venv/lib/python3.11/site-packages (from -r /Users/jordanfletorides/Desktop/github repos/ml-mildew-detector/requirements.txt (line 17)) (1.16.0)\n",
      "Requirement already satisfied: charset-normalizer==3.3.2 in /Users/jordanfletorides/Desktop/github repos/ml-mildew-detector/.venv/lib/python3.11/site-packages (from -r /Users/jordanfletorides/Desktop/github repos/ml-mildew-detector/requirements.txt (line 18)) (3.3.2)\n",
      "Requirement already satisfied: click==8.1.7 in /Users/jordanfletorides/Desktop/github repos/ml-mildew-detector/.venv/lib/python3.11/site-packages (from -r /Users/jordanfletorides/Desktop/github repos/ml-mildew-detector/requirements.txt (line 19)) (8.1.7)\n",
      "Requirement already satisfied: comm==0.2.2 in /Users/jordanfletorides/Desktop/github repos/ml-mildew-detector/.venv/lib/python3.11/site-packages (from -r /Users/jordanfletorides/Desktop/github repos/ml-mildew-detector/requirements.txt (line 20)) (0.2.2)\n",
      "Requirement already satisfied: contourpy==1.2.0 in /Users/jordanfletorides/Desktop/github repos/ml-mildew-detector/.venv/lib/python3.11/site-packages (from -r /Users/jordanfletorides/Desktop/github repos/ml-mildew-detector/requirements.txt (line 21)) (1.2.0)\n",
      "Requirement already satisfied: cycler==0.12.1 in /Users/jordanfletorides/Desktop/github repos/ml-mildew-detector/.venv/lib/python3.11/site-packages (from -r /Users/jordanfletorides/Desktop/github repos/ml-mildew-detector/requirements.txt (line 22)) (0.12.1)\n",
      "Requirement already satisfied: debugpy==1.8.1 in /Users/jordanfletorides/Desktop/github repos/ml-mildew-detector/.venv/lib/python3.11/site-packages (from -r /Users/jordanfletorides/Desktop/github repos/ml-mildew-detector/requirements.txt (line 23)) (1.8.1)\n",
      "Requirement already satisfied: decorator==5.1.1 in /Users/jordanfletorides/Desktop/github repos/ml-mildew-detector/.venv/lib/python3.11/site-packages (from -r /Users/jordanfletorides/Desktop/github repos/ml-mildew-detector/requirements.txt (line 24)) (5.1.1)\n",
      "Requirement already satisfied: defusedxml==0.7.1 in /Users/jordanfletorides/Desktop/github repos/ml-mildew-detector/.venv/lib/python3.11/site-packages (from -r /Users/jordanfletorides/Desktop/github repos/ml-mildew-detector/requirements.txt (line 25)) (0.7.1)\n",
      "Requirement already satisfied: dm-tree==0.1.8 in /Users/jordanfletorides/Desktop/github repos/ml-mildew-detector/.venv/lib/python3.11/site-packages (from -r /Users/jordanfletorides/Desktop/github repos/ml-mildew-detector/requirements.txt (line 26)) (0.1.8)\n",
      "Requirement already satisfied: executing==2.0.1 in /Users/jordanfletorides/Desktop/github repos/ml-mildew-detector/.venv/lib/python3.11/site-packages (from -r /Users/jordanfletorides/Desktop/github repos/ml-mildew-detector/requirements.txt (line 27)) (2.0.1)\n",
      "Requirement already satisfied: fastjsonschema==2.19.1 in /Users/jordanfletorides/Desktop/github repos/ml-mildew-detector/.venv/lib/python3.11/site-packages (from -r /Users/jordanfletorides/Desktop/github repos/ml-mildew-detector/requirements.txt (line 28)) (2.19.1)\n",
      "Requirement already satisfied: flatbuffers==24.3.7 in /Users/jordanfletorides/Desktop/github repos/ml-mildew-detector/.venv/lib/python3.11/site-packages (from -r /Users/jordanfletorides/Desktop/github repos/ml-mildew-detector/requirements.txt (line 29)) (24.3.7)\n",
      "Requirement already satisfied: fonttools==4.49.0 in /Users/jordanfletorides/Desktop/github repos/ml-mildew-detector/.venv/lib/python3.11/site-packages (from -r /Users/jordanfletorides/Desktop/github repos/ml-mildew-detector/requirements.txt (line 30)) (4.49.0)\n",
      "Requirement already satisfied: fqdn==1.5.1 in /Users/jordanfletorides/Desktop/github repos/ml-mildew-detector/.venv/lib/python3.11/site-packages (from -r /Users/jordanfletorides/Desktop/github repos/ml-mildew-detector/requirements.txt (line 31)) (1.5.1)\n",
      "Requirement already satisfied: gast==0.5.4 in /Users/jordanfletorides/Desktop/github repos/ml-mildew-detector/.venv/lib/python3.11/site-packages (from -r /Users/jordanfletorides/Desktop/github repos/ml-mildew-detector/requirements.txt (line 32)) (0.5.4)\n",
      "Requirement already satisfied: google-pasta==0.2.0 in /Users/jordanfletorides/Desktop/github repos/ml-mildew-detector/.venv/lib/python3.11/site-packages (from -r /Users/jordanfletorides/Desktop/github repos/ml-mildew-detector/requirements.txt (line 33)) (0.2.0)\n",
      "Requirement already satisfied: grpcio==1.62.1 in /Users/jordanfletorides/Desktop/github repos/ml-mildew-detector/.venv/lib/python3.11/site-packages (from -r /Users/jordanfletorides/Desktop/github repos/ml-mildew-detector/requirements.txt (line 34)) (1.62.1)\n",
      "Requirement already satisfied: h11==0.14.0 in /Users/jordanfletorides/Desktop/github repos/ml-mildew-detector/.venv/lib/python3.11/site-packages (from -r /Users/jordanfletorides/Desktop/github repos/ml-mildew-detector/requirements.txt (line 35)) (0.14.0)\n",
      "Requirement already satisfied: h5py==3.10.0 in /Users/jordanfletorides/Desktop/github repos/ml-mildew-detector/.venv/lib/python3.11/site-packages (from -r /Users/jordanfletorides/Desktop/github repos/ml-mildew-detector/requirements.txt (line 36)) (3.10.0)\n",
      "Requirement already satisfied: httpcore==1.0.4 in /Users/jordanfletorides/Desktop/github repos/ml-mildew-detector/.venv/lib/python3.11/site-packages (from -r /Users/jordanfletorides/Desktop/github repos/ml-mildew-detector/requirements.txt (line 37)) (1.0.4)\n",
      "Requirement already satisfied: httpx==0.27.0 in /Users/jordanfletorides/Desktop/github repos/ml-mildew-detector/.venv/lib/python3.11/site-packages (from -r /Users/jordanfletorides/Desktop/github repos/ml-mildew-detector/requirements.txt (line 38)) (0.27.0)\n",
      "Requirement already satisfied: idna==3.6 in /Users/jordanfletorides/Desktop/github repos/ml-mildew-detector/.venv/lib/python3.11/site-packages (from -r /Users/jordanfletorides/Desktop/github repos/ml-mildew-detector/requirements.txt (line 39)) (3.6)\n",
      "Requirement already satisfied: ipykernel==6.29.3 in /Users/jordanfletorides/Desktop/github repos/ml-mildew-detector/.venv/lib/python3.11/site-packages (from -r /Users/jordanfletorides/Desktop/github repos/ml-mildew-detector/requirements.txt (line 40)) (6.29.3)\n",
      "Requirement already satisfied: ipython==8.22.2 in /Users/jordanfletorides/Desktop/github repos/ml-mildew-detector/.venv/lib/python3.11/site-packages (from -r /Users/jordanfletorides/Desktop/github repos/ml-mildew-detector/requirements.txt (line 41)) (8.22.2)\n",
      "Requirement already satisfied: isoduration==20.11.0 in /Users/jordanfletorides/Desktop/github repos/ml-mildew-detector/.venv/lib/python3.11/site-packages (from -r /Users/jordanfletorides/Desktop/github repos/ml-mildew-detector/requirements.txt (line 42)) (20.11.0)\n",
      "Requirement already satisfied: jedi==0.19.1 in /Users/jordanfletorides/Desktop/github repos/ml-mildew-detector/.venv/lib/python3.11/site-packages (from -r /Users/jordanfletorides/Desktop/github repos/ml-mildew-detector/requirements.txt (line 43)) (0.19.1)\n",
      "Requirement already satisfied: Jinja2==3.1.3 in /Users/jordanfletorides/Desktop/github repos/ml-mildew-detector/.venv/lib/python3.11/site-packages (from -r /Users/jordanfletorides/Desktop/github repos/ml-mildew-detector/requirements.txt (line 44)) (3.1.3)\n",
      "Requirement already satisfied: joblib==1.3.2 in /Users/jordanfletorides/Desktop/github repos/ml-mildew-detector/.venv/lib/python3.11/site-packages (from -r /Users/jordanfletorides/Desktop/github repos/ml-mildew-detector/requirements.txt (line 45)) (1.3.2)\n",
      "Requirement already satisfied: json5==0.9.22 in /Users/jordanfletorides/Desktop/github repos/ml-mildew-detector/.venv/lib/python3.11/site-packages (from -r /Users/jordanfletorides/Desktop/github repos/ml-mildew-detector/requirements.txt (line 46)) (0.9.22)\n",
      "Requirement already satisfied: jsonpointer==2.4 in /Users/jordanfletorides/Desktop/github repos/ml-mildew-detector/.venv/lib/python3.11/site-packages (from -r /Users/jordanfletorides/Desktop/github repos/ml-mildew-detector/requirements.txt (line 47)) (2.4)\n",
      "Requirement already satisfied: jsonschema==4.21.1 in /Users/jordanfletorides/Desktop/github repos/ml-mildew-detector/.venv/lib/python3.11/site-packages (from -r /Users/jordanfletorides/Desktop/github repos/ml-mildew-detector/requirements.txt (line 48)) (4.21.1)\n",
      "Requirement already satisfied: jsonschema-specifications==2023.12.1 in /Users/jordanfletorides/Desktop/github repos/ml-mildew-detector/.venv/lib/python3.11/site-packages (from -r /Users/jordanfletorides/Desktop/github repos/ml-mildew-detector/requirements.txt (line 49)) (2023.12.1)\n",
      "Requirement already satisfied: jupyter-events==0.9.1 in /Users/jordanfletorides/Desktop/github repos/ml-mildew-detector/.venv/lib/python3.11/site-packages (from -r /Users/jordanfletorides/Desktop/github repos/ml-mildew-detector/requirements.txt (line 50)) (0.9.1)\n",
      "Requirement already satisfied: jupyter-lsp==2.2.4 in /Users/jordanfletorides/Desktop/github repos/ml-mildew-detector/.venv/lib/python3.11/site-packages (from -r /Users/jordanfletorides/Desktop/github repos/ml-mildew-detector/requirements.txt (line 51)) (2.2.4)\n",
      "Requirement already satisfied: jupyter_client==8.6.1 in /Users/jordanfletorides/Desktop/github repos/ml-mildew-detector/.venv/lib/python3.11/site-packages (from -r /Users/jordanfletorides/Desktop/github repos/ml-mildew-detector/requirements.txt (line 52)) (8.6.1)\n",
      "Requirement already satisfied: jupyter_core==5.7.2 in /Users/jordanfletorides/Desktop/github repos/ml-mildew-detector/.venv/lib/python3.11/site-packages (from -r /Users/jordanfletorides/Desktop/github repos/ml-mildew-detector/requirements.txt (line 53)) (5.7.2)\n",
      "Requirement already satisfied: jupyter_server==2.13.0 in /Users/jordanfletorides/Desktop/github repos/ml-mildew-detector/.venv/lib/python3.11/site-packages (from -r /Users/jordanfletorides/Desktop/github repos/ml-mildew-detector/requirements.txt (line 54)) (2.13.0)\n",
      "Requirement already satisfied: jupyter_server_terminals==0.5.3 in /Users/jordanfletorides/Desktop/github repos/ml-mildew-detector/.venv/lib/python3.11/site-packages (from -r /Users/jordanfletorides/Desktop/github repos/ml-mildew-detector/requirements.txt (line 55)) (0.5.3)\n",
      "Requirement already satisfied: jupyterlab==4.1.4 in /Users/jordanfletorides/Desktop/github repos/ml-mildew-detector/.venv/lib/python3.11/site-packages (from -r /Users/jordanfletorides/Desktop/github repos/ml-mildew-detector/requirements.txt (line 56)) (4.1.4)\n",
      "Requirement already satisfied: jupyterlab_pygments==0.3.0 in /Users/jordanfletorides/Desktop/github repos/ml-mildew-detector/.venv/lib/python3.11/site-packages (from -r /Users/jordanfletorides/Desktop/github repos/ml-mildew-detector/requirements.txt (line 57)) (0.3.0)\n",
      "Requirement already satisfied: jupyterlab_server==2.25.4 in /Users/jordanfletorides/Desktop/github repos/ml-mildew-detector/.venv/lib/python3.11/site-packages (from -r /Users/jordanfletorides/Desktop/github repos/ml-mildew-detector/requirements.txt (line 58)) (2.25.4)\n",
      "Requirement already satisfied: keras==3.0.5 in /Users/jordanfletorides/Desktop/github repos/ml-mildew-detector/.venv/lib/python3.11/site-packages (from -r /Users/jordanfletorides/Desktop/github repos/ml-mildew-detector/requirements.txt (line 59)) (3.0.5)\n",
      "Requirement already satisfied: kiwisolver==1.4.5 in /Users/jordanfletorides/Desktop/github repos/ml-mildew-detector/.venv/lib/python3.11/site-packages (from -r /Users/jordanfletorides/Desktop/github repos/ml-mildew-detector/requirements.txt (line 60)) (1.4.5)\n",
      "Requirement already satisfied: libclang==16.0.6 in /Users/jordanfletorides/Desktop/github repos/ml-mildew-detector/.venv/lib/python3.11/site-packages (from -r /Users/jordanfletorides/Desktop/github repos/ml-mildew-detector/requirements.txt (line 61)) (16.0.6)\n",
      "Requirement already satisfied: Markdown==3.5.2 in /Users/jordanfletorides/Desktop/github repos/ml-mildew-detector/.venv/lib/python3.11/site-packages (from -r /Users/jordanfletorides/Desktop/github repos/ml-mildew-detector/requirements.txt (line 62)) (3.5.2)\n",
      "Requirement already satisfied: markdown-it-py==3.0.0 in /Users/jordanfletorides/Desktop/github repos/ml-mildew-detector/.venv/lib/python3.11/site-packages (from -r /Users/jordanfletorides/Desktop/github repos/ml-mildew-detector/requirements.txt (line 63)) (3.0.0)\n",
      "Requirement already satisfied: MarkupSafe==2.1.5 in /Users/jordanfletorides/Desktop/github repos/ml-mildew-detector/.venv/lib/python3.11/site-packages (from -r /Users/jordanfletorides/Desktop/github repos/ml-mildew-detector/requirements.txt (line 64)) (2.1.5)\n",
      "Requirement already satisfied: matplotlib==3.8.3 in /Users/jordanfletorides/Desktop/github repos/ml-mildew-detector/.venv/lib/python3.11/site-packages (from -r /Users/jordanfletorides/Desktop/github repos/ml-mildew-detector/requirements.txt (line 65)) (3.8.3)\n",
      "Requirement already satisfied: matplotlib-inline==0.1.6 in /Users/jordanfletorides/Desktop/github repos/ml-mildew-detector/.venv/lib/python3.11/site-packages (from -r /Users/jordanfletorides/Desktop/github repos/ml-mildew-detector/requirements.txt (line 66)) (0.1.6)\n",
      "Requirement already satisfied: mdurl==0.1.2 in /Users/jordanfletorides/Desktop/github repos/ml-mildew-detector/.venv/lib/python3.11/site-packages (from -r /Users/jordanfletorides/Desktop/github repos/ml-mildew-detector/requirements.txt (line 67)) (0.1.2)\n",
      "Requirement already satisfied: mistune==3.0.2 in /Users/jordanfletorides/Desktop/github repos/ml-mildew-detector/.venv/lib/python3.11/site-packages (from -r /Users/jordanfletorides/Desktop/github repos/ml-mildew-detector/requirements.txt (line 68)) (3.0.2)\n",
      "Requirement already satisfied: ml-dtypes==0.3.2 in /Users/jordanfletorides/Desktop/github repos/ml-mildew-detector/.venv/lib/python3.11/site-packages (from -r /Users/jordanfletorides/Desktop/github repos/ml-mildew-detector/requirements.txt (line 69)) (0.3.2)\n",
      "Requirement already satisfied: namex==0.0.7 in /Users/jordanfletorides/Desktop/github repos/ml-mildew-detector/.venv/lib/python3.11/site-packages (from -r /Users/jordanfletorides/Desktop/github repos/ml-mildew-detector/requirements.txt (line 70)) (0.0.7)\n",
      "Requirement already satisfied: nbclient==0.10.0 in /Users/jordanfletorides/Desktop/github repos/ml-mildew-detector/.venv/lib/python3.11/site-packages (from -r /Users/jordanfletorides/Desktop/github repos/ml-mildew-detector/requirements.txt (line 71)) (0.10.0)\n",
      "Requirement already satisfied: nbconvert==7.16.2 in /Users/jordanfletorides/Desktop/github repos/ml-mildew-detector/.venv/lib/python3.11/site-packages (from -r /Users/jordanfletorides/Desktop/github repos/ml-mildew-detector/requirements.txt (line 72)) (7.16.2)\n",
      "Requirement already satisfied: nbformat==5.10.2 in /Users/jordanfletorides/Desktop/github repos/ml-mildew-detector/.venv/lib/python3.11/site-packages (from -r /Users/jordanfletorides/Desktop/github repos/ml-mildew-detector/requirements.txt (line 73)) (5.10.2)\n",
      "Requirement already satisfied: nest-asyncio==1.6.0 in /Users/jordanfletorides/Desktop/github repos/ml-mildew-detector/.venv/lib/python3.11/site-packages (from -r /Users/jordanfletorides/Desktop/github repos/ml-mildew-detector/requirements.txt (line 74)) (1.6.0)\n",
      "Requirement already satisfied: notebook==7.1.1 in /Users/jordanfletorides/Desktop/github repos/ml-mildew-detector/.venv/lib/python3.11/site-packages (from -r /Users/jordanfletorides/Desktop/github repos/ml-mildew-detector/requirements.txt (line 75)) (7.1.1)\n",
      "Requirement already satisfied: notebook_shim==0.2.4 in /Users/jordanfletorides/Desktop/github repos/ml-mildew-detector/.venv/lib/python3.11/site-packages (from -r /Users/jordanfletorides/Desktop/github repos/ml-mildew-detector/requirements.txt (line 76)) (0.2.4)\n",
      "Requirement already satisfied: numpy==1.26.4 in /Users/jordanfletorides/Desktop/github repos/ml-mildew-detector/.venv/lib/python3.11/site-packages (from -r /Users/jordanfletorides/Desktop/github repos/ml-mildew-detector/requirements.txt (line 77)) (1.26.4)\n",
      "Requirement already satisfied: opt-einsum==3.3.0 in /Users/jordanfletorides/Desktop/github repos/ml-mildew-detector/.venv/lib/python3.11/site-packages (from -r /Users/jordanfletorides/Desktop/github repos/ml-mildew-detector/requirements.txt (line 78)) (3.3.0)\n",
      "Requirement already satisfied: overrides==7.7.0 in /Users/jordanfletorides/Desktop/github repos/ml-mildew-detector/.venv/lib/python3.11/site-packages (from -r /Users/jordanfletorides/Desktop/github repos/ml-mildew-detector/requirements.txt (line 79)) (7.7.0)\n",
      "Requirement already satisfied: packaging==23.2 in /Users/jordanfletorides/Desktop/github repos/ml-mildew-detector/.venv/lib/python3.11/site-packages (from -r /Users/jordanfletorides/Desktop/github repos/ml-mildew-detector/requirements.txt (line 80)) (23.2)\n",
      "Requirement already satisfied: pandas==2.2.1 in /Users/jordanfletorides/Desktop/github repos/ml-mildew-detector/.venv/lib/python3.11/site-packages (from -r /Users/jordanfletorides/Desktop/github repos/ml-mildew-detector/requirements.txt (line 81)) (2.2.1)\n",
      "Requirement already satisfied: pandocfilters==1.5.1 in /Users/jordanfletorides/Desktop/github repos/ml-mildew-detector/.venv/lib/python3.11/site-packages (from -r /Users/jordanfletorides/Desktop/github repos/ml-mildew-detector/requirements.txt (line 82)) (1.5.1)\n",
      "Requirement already satisfied: parso==0.8.3 in /Users/jordanfletorides/Desktop/github repos/ml-mildew-detector/.venv/lib/python3.11/site-packages (from -r /Users/jordanfletorides/Desktop/github repos/ml-mildew-detector/requirements.txt (line 83)) (0.8.3)\n",
      "Requirement already satisfied: pexpect==4.9.0 in /Users/jordanfletorides/Desktop/github repos/ml-mildew-detector/.venv/lib/python3.11/site-packages (from -r /Users/jordanfletorides/Desktop/github repos/ml-mildew-detector/requirements.txt (line 84)) (4.9.0)\n",
      "Requirement already satisfied: pillow==10.2.0 in /Users/jordanfletorides/Desktop/github repos/ml-mildew-detector/.venv/lib/python3.11/site-packages (from -r /Users/jordanfletorides/Desktop/github repos/ml-mildew-detector/requirements.txt (line 85)) (10.2.0)\n",
      "Requirement already satisfied: platformdirs==4.2.0 in /Users/jordanfletorides/Desktop/github repos/ml-mildew-detector/.venv/lib/python3.11/site-packages (from -r /Users/jordanfletorides/Desktop/github repos/ml-mildew-detector/requirements.txt (line 86)) (4.2.0)\n",
      "Requirement already satisfied: plotly==5.20.0 in /Users/jordanfletorides/Desktop/github repos/ml-mildew-detector/.venv/lib/python3.11/site-packages (from -r /Users/jordanfletorides/Desktop/github repos/ml-mildew-detector/requirements.txt (line 87)) (5.20.0)\n",
      "Requirement already satisfied: prometheus_client==0.20.0 in /Users/jordanfletorides/Desktop/github repos/ml-mildew-detector/.venv/lib/python3.11/site-packages (from -r /Users/jordanfletorides/Desktop/github repos/ml-mildew-detector/requirements.txt (line 88)) (0.20.0)\n",
      "Requirement already satisfied: prompt-toolkit==3.0.43 in /Users/jordanfletorides/Desktop/github repos/ml-mildew-detector/.venv/lib/python3.11/site-packages (from -r /Users/jordanfletorides/Desktop/github repos/ml-mildew-detector/requirements.txt (line 89)) (3.0.43)\n",
      "Requirement already satisfied: protobuf==4.25.3 in /Users/jordanfletorides/Desktop/github repos/ml-mildew-detector/.venv/lib/python3.11/site-packages (from -r /Users/jordanfletorides/Desktop/github repos/ml-mildew-detector/requirements.txt (line 90)) (4.25.3)\n",
      "Requirement already satisfied: psutil==5.9.8 in /Users/jordanfletorides/Desktop/github repos/ml-mildew-detector/.venv/lib/python3.11/site-packages (from -r /Users/jordanfletorides/Desktop/github repos/ml-mildew-detector/requirements.txt (line 91)) (5.9.8)\n",
      "Requirement already satisfied: ptyprocess==0.7.0 in /Users/jordanfletorides/Desktop/github repos/ml-mildew-detector/.venv/lib/python3.11/site-packages (from -r /Users/jordanfletorides/Desktop/github repos/ml-mildew-detector/requirements.txt (line 92)) (0.7.0)\n",
      "Requirement already satisfied: pure-eval==0.2.2 in /Users/jordanfletorides/Desktop/github repos/ml-mildew-detector/.venv/lib/python3.11/site-packages (from -r /Users/jordanfletorides/Desktop/github repos/ml-mildew-detector/requirements.txt (line 93)) (0.2.2)\n",
      "Requirement already satisfied: pyarrow==15.0.1 in /Users/jordanfletorides/Desktop/github repos/ml-mildew-detector/.venv/lib/python3.11/site-packages (from -r /Users/jordanfletorides/Desktop/github repos/ml-mildew-detector/requirements.txt (line 94)) (15.0.1)\n",
      "Requirement already satisfied: pycparser==2.21 in /Users/jordanfletorides/Desktop/github repos/ml-mildew-detector/.venv/lib/python3.11/site-packages (from -r /Users/jordanfletorides/Desktop/github repos/ml-mildew-detector/requirements.txt (line 95)) (2.21)\n",
      "Requirement already satisfied: pydeck==0.8.1b0 in /Users/jordanfletorides/Desktop/github repos/ml-mildew-detector/.venv/lib/python3.11/site-packages (from -r /Users/jordanfletorides/Desktop/github repos/ml-mildew-detector/requirements.txt (line 96)) (0.8.1b0)\n",
      "Requirement already satisfied: Pygments==2.17.2 in /Users/jordanfletorides/Desktop/github repos/ml-mildew-detector/.venv/lib/python3.11/site-packages (from -r /Users/jordanfletorides/Desktop/github repos/ml-mildew-detector/requirements.txt (line 97)) (2.17.2)\n",
      "Requirement already satisfied: pyparsing==3.1.2 in /Users/jordanfletorides/Desktop/github repos/ml-mildew-detector/.venv/lib/python3.11/site-packages (from -r /Users/jordanfletorides/Desktop/github repos/ml-mildew-detector/requirements.txt (line 98)) (3.1.2)\n",
      "Requirement already satisfied: python-dateutil==2.9.0.post0 in /Users/jordanfletorides/Desktop/github repos/ml-mildew-detector/.venv/lib/python3.11/site-packages (from -r /Users/jordanfletorides/Desktop/github repos/ml-mildew-detector/requirements.txt (line 99)) (2.9.0.post0)\n",
      "Requirement already satisfied: python-json-logger==2.0.7 in /Users/jordanfletorides/Desktop/github repos/ml-mildew-detector/.venv/lib/python3.11/site-packages (from -r /Users/jordanfletorides/Desktop/github repos/ml-mildew-detector/requirements.txt (line 100)) (2.0.7)\n",
      "Requirement already satisfied: python-slugify==8.0.4 in /Users/jordanfletorides/Desktop/github repos/ml-mildew-detector/.venv/lib/python3.11/site-packages (from -r /Users/jordanfletorides/Desktop/github repos/ml-mildew-detector/requirements.txt (line 101)) (8.0.4)\n",
      "Requirement already satisfied: pytz==2024.1 in /Users/jordanfletorides/Desktop/github repos/ml-mildew-detector/.venv/lib/python3.11/site-packages (from -r /Users/jordanfletorides/Desktop/github repos/ml-mildew-detector/requirements.txt (line 102)) (2024.1)\n",
      "Requirement already satisfied: PyYAML==6.0.1 in /Users/jordanfletorides/Desktop/github repos/ml-mildew-detector/.venv/lib/python3.11/site-packages (from -r /Users/jordanfletorides/Desktop/github repos/ml-mildew-detector/requirements.txt (line 103)) (6.0.1)\n",
      "Requirement already satisfied: pyzmq==25.1.2 in /Users/jordanfletorides/Desktop/github repos/ml-mildew-detector/.venv/lib/python3.11/site-packages (from -r /Users/jordanfletorides/Desktop/github repos/ml-mildew-detector/requirements.txt (line 104)) (25.1.2)\n",
      "Requirement already satisfied: referencing==0.33.0 in /Users/jordanfletorides/Desktop/github repos/ml-mildew-detector/.venv/lib/python3.11/site-packages (from -r /Users/jordanfletorides/Desktop/github repos/ml-mildew-detector/requirements.txt (line 105)) (0.33.0)\n",
      "Requirement already satisfied: requests==2.31.0 in /Users/jordanfletorides/Desktop/github repos/ml-mildew-detector/.venv/lib/python3.11/site-packages (from -r /Users/jordanfletorides/Desktop/github repos/ml-mildew-detector/requirements.txt (line 106)) (2.31.0)\n",
      "Requirement already satisfied: rfc3339-validator==0.1.4 in /Users/jordanfletorides/Desktop/github repos/ml-mildew-detector/.venv/lib/python3.11/site-packages (from -r /Users/jordanfletorides/Desktop/github repos/ml-mildew-detector/requirements.txt (line 107)) (0.1.4)\n",
      "Requirement already satisfied: rfc3986-validator==0.1.1 in /Users/jordanfletorides/Desktop/github repos/ml-mildew-detector/.venv/lib/python3.11/site-packages (from -r /Users/jordanfletorides/Desktop/github repos/ml-mildew-detector/requirements.txt (line 108)) (0.1.1)\n",
      "Requirement already satisfied: rpds-py==0.18.0 in /Users/jordanfletorides/Desktop/github repos/ml-mildew-detector/.venv/lib/python3.11/site-packages (from -r /Users/jordanfletorides/Desktop/github repos/ml-mildew-detector/requirements.txt (line 109)) (0.18.0)\n",
      "Requirement already satisfied: scikit-learn==1.4.1.post1 in /Users/jordanfletorides/Desktop/github repos/ml-mildew-detector/.venv/lib/python3.11/site-packages (from -r /Users/jordanfletorides/Desktop/github repos/ml-mildew-detector/requirements.txt (line 110)) (1.4.1.post1)\n",
      "Requirement already satisfied: scipy==1.12.0 in /Users/jordanfletorides/Desktop/github repos/ml-mildew-detector/.venv/lib/python3.11/site-packages (from -r /Users/jordanfletorides/Desktop/github repos/ml-mildew-detector/requirements.txt (line 111)) (1.12.0)\n",
      "Requirement already satisfied: seaborn==0.13.2 in /Users/jordanfletorides/Desktop/github repos/ml-mildew-detector/.venv/lib/python3.11/site-packages (from -r /Users/jordanfletorides/Desktop/github repos/ml-mildew-detector/requirements.txt (line 112)) (0.13.2)\n",
      "Requirement already satisfied: Send2Trash==1.8.2 in /Users/jordanfletorides/Desktop/github repos/ml-mildew-detector/.venv/lib/python3.11/site-packages (from -r /Users/jordanfletorides/Desktop/github repos/ml-mildew-detector/requirements.txt (line 113)) (1.8.2)\n",
      "Requirement already satisfied: six==1.16.0 in /Users/jordanfletorides/Desktop/github repos/ml-mildew-detector/.venv/lib/python3.11/site-packages (from -r /Users/jordanfletorides/Desktop/github repos/ml-mildew-detector/requirements.txt (line 114)) (1.16.0)\n",
      "Requirement already satisfied: sniffio==1.3.1 in /Users/jordanfletorides/Desktop/github repos/ml-mildew-detector/.venv/lib/python3.11/site-packages (from -r /Users/jordanfletorides/Desktop/github repos/ml-mildew-detector/requirements.txt (line 115)) (1.3.1)\n",
      "Requirement already satisfied: soupsieve==2.5 in /Users/jordanfletorides/Desktop/github repos/ml-mildew-detector/.venv/lib/python3.11/site-packages (from -r /Users/jordanfletorides/Desktop/github repos/ml-mildew-detector/requirements.txt (line 116)) (2.5)\n",
      "Requirement already satisfied: stack-data==0.6.3 in /Users/jordanfletorides/Desktop/github repos/ml-mildew-detector/.venv/lib/python3.11/site-packages (from -r /Users/jordanfletorides/Desktop/github repos/ml-mildew-detector/requirements.txt (line 117)) (0.6.3)\n",
      "Requirement already satisfied: streamlit==1.32.1 in /Users/jordanfletorides/Desktop/github repos/ml-mildew-detector/.venv/lib/python3.11/site-packages (from -r /Users/jordanfletorides/Desktop/github repos/ml-mildew-detector/requirements.txt (line 118)) (1.32.1)\n",
      "Requirement already satisfied: tenacity==8.2.3 in /Users/jordanfletorides/Desktop/github repos/ml-mildew-detector/.venv/lib/python3.11/site-packages (from -r /Users/jordanfletorides/Desktop/github repos/ml-mildew-detector/requirements.txt (line 119)) (8.2.3)\n",
      "Requirement already satisfied: tensorboard==2.16.2 in /Users/jordanfletorides/Desktop/github repos/ml-mildew-detector/.venv/lib/python3.11/site-packages (from -r /Users/jordanfletorides/Desktop/github repos/ml-mildew-detector/requirements.txt (line 120)) (2.16.2)\n",
      "Requirement already satisfied: tensorboard-data-server==0.7.2 in /Users/jordanfletorides/Desktop/github repos/ml-mildew-detector/.venv/lib/python3.11/site-packages (from -r /Users/jordanfletorides/Desktop/github repos/ml-mildew-detector/requirements.txt (line 121)) (0.7.2)\n",
      "Requirement already satisfied: tensorflow==2.16.1 in /Users/jordanfletorides/Desktop/github repos/ml-mildew-detector/.venv/lib/python3.11/site-packages (from -r /Users/jordanfletorides/Desktop/github repos/ml-mildew-detector/requirements.txt (line 122)) (2.16.1)\n",
      "Requirement already satisfied: tensorflow-io-gcs-filesystem==0.36.0 in /Users/jordanfletorides/Desktop/github repos/ml-mildew-detector/.venv/lib/python3.11/site-packages (from -r /Users/jordanfletorides/Desktop/github repos/ml-mildew-detector/requirements.txt (line 123)) (0.36.0)\n",
      "Requirement already satisfied: termcolor==2.4.0 in /Users/jordanfletorides/Desktop/github repos/ml-mildew-detector/.venv/lib/python3.11/site-packages (from -r /Users/jordanfletorides/Desktop/github repos/ml-mildew-detector/requirements.txt (line 124)) (2.4.0)\n",
      "Requirement already satisfied: terminado==0.18.1 in /Users/jordanfletorides/Desktop/github repos/ml-mildew-detector/.venv/lib/python3.11/site-packages (from -r /Users/jordanfletorides/Desktop/github repos/ml-mildew-detector/requirements.txt (line 125)) (0.18.1)\n",
      "Requirement already satisfied: text-unidecode==1.3 in /Users/jordanfletorides/Desktop/github repos/ml-mildew-detector/.venv/lib/python3.11/site-packages (from -r /Users/jordanfletorides/Desktop/github repos/ml-mildew-detector/requirements.txt (line 126)) (1.3)\n",
      "Requirement already satisfied: threadpoolctl==3.3.0 in /Users/jordanfletorides/Desktop/github repos/ml-mildew-detector/.venv/lib/python3.11/site-packages (from -r /Users/jordanfletorides/Desktop/github repos/ml-mildew-detector/requirements.txt (line 127)) (3.3.0)\n",
      "Requirement already satisfied: tinycss2==1.2.1 in /Users/jordanfletorides/Desktop/github repos/ml-mildew-detector/.venv/lib/python3.11/site-packages (from -r /Users/jordanfletorides/Desktop/github repos/ml-mildew-detector/requirements.txt (line 128)) (1.2.1)\n",
      "Requirement already satisfied: toml==0.10.2 in /Users/jordanfletorides/Desktop/github repos/ml-mildew-detector/.venv/lib/python3.11/site-packages (from -r /Users/jordanfletorides/Desktop/github repos/ml-mildew-detector/requirements.txt (line 129)) (0.10.2)\n",
      "Requirement already satisfied: toolz==0.12.1 in /Users/jordanfletorides/Desktop/github repos/ml-mildew-detector/.venv/lib/python3.11/site-packages (from -r /Users/jordanfletorides/Desktop/github repos/ml-mildew-detector/requirements.txt (line 130)) (0.12.1)\n",
      "Requirement already satisfied: tornado==6.4 in /Users/jordanfletorides/Desktop/github repos/ml-mildew-detector/.venv/lib/python3.11/site-packages (from -r /Users/jordanfletorides/Desktop/github repos/ml-mildew-detector/requirements.txt (line 131)) (6.4)\n",
      "Requirement already satisfied: tqdm==4.66.2 in /Users/jordanfletorides/Desktop/github repos/ml-mildew-detector/.venv/lib/python3.11/site-packages (from -r /Users/jordanfletorides/Desktop/github repos/ml-mildew-detector/requirements.txt (line 132)) (4.66.2)\n",
      "Requirement already satisfied: traitlets==5.14.2 in /Users/jordanfletorides/Desktop/github repos/ml-mildew-detector/.venv/lib/python3.11/site-packages (from -r /Users/jordanfletorides/Desktop/github repos/ml-mildew-detector/requirements.txt (line 133)) (5.14.2)\n",
      "Requirement already satisfied: types-python-dateutil==2.8.19.20240311 in /Users/jordanfletorides/Desktop/github repos/ml-mildew-detector/.venv/lib/python3.11/site-packages (from -r /Users/jordanfletorides/Desktop/github repos/ml-mildew-detector/requirements.txt (line 134)) (2.8.19.20240311)\n",
      "Requirement already satisfied: typing_extensions==4.10.0 in /Users/jordanfletorides/Desktop/github repos/ml-mildew-detector/.venv/lib/python3.11/site-packages (from -r /Users/jordanfletorides/Desktop/github repos/ml-mildew-detector/requirements.txt (line 135)) (4.10.0)\n",
      "Requirement already satisfied: tzdata==2024.1 in /Users/jordanfletorides/Desktop/github repos/ml-mildew-detector/.venv/lib/python3.11/site-packages (from -r /Users/jordanfletorides/Desktop/github repos/ml-mildew-detector/requirements.txt (line 136)) (2024.1)\n",
      "Requirement already satisfied: uri-template==1.3.0 in /Users/jordanfletorides/Desktop/github repos/ml-mildew-detector/.venv/lib/python3.11/site-packages (from -r /Users/jordanfletorides/Desktop/github repos/ml-mildew-detector/requirements.txt (line 137)) (1.3.0)\n",
      "Requirement already satisfied: urllib3==2.2.1 in /Users/jordanfletorides/Desktop/github repos/ml-mildew-detector/.venv/lib/python3.11/site-packages (from -r /Users/jordanfletorides/Desktop/github repos/ml-mildew-detector/requirements.txt (line 138)) (2.2.1)\n",
      "Requirement already satisfied: wcwidth==0.2.13 in /Users/jordanfletorides/Desktop/github repos/ml-mildew-detector/.venv/lib/python3.11/site-packages (from -r /Users/jordanfletorides/Desktop/github repos/ml-mildew-detector/requirements.txt (line 139)) (0.2.13)\n",
      "Requirement already satisfied: webcolors==1.13 in /Users/jordanfletorides/Desktop/github repos/ml-mildew-detector/.venv/lib/python3.11/site-packages (from -r /Users/jordanfletorides/Desktop/github repos/ml-mildew-detector/requirements.txt (line 140)) (1.13)\n",
      "Requirement already satisfied: webencodings==0.5.1 in /Users/jordanfletorides/Desktop/github repos/ml-mildew-detector/.venv/lib/python3.11/site-packages (from -r /Users/jordanfletorides/Desktop/github repos/ml-mildew-detector/requirements.txt (line 141)) (0.5.1)\n",
      "Requirement already satisfied: websocket-client==1.7.0 in /Users/jordanfletorides/Desktop/github repos/ml-mildew-detector/.venv/lib/python3.11/site-packages (from -r /Users/jordanfletorides/Desktop/github repos/ml-mildew-detector/requirements.txt (line 142)) (1.7.0)\n",
      "Requirement already satisfied: Werkzeug==3.0.1 in /Users/jordanfletorides/Desktop/github repos/ml-mildew-detector/.venv/lib/python3.11/site-packages (from -r /Users/jordanfletorides/Desktop/github repos/ml-mildew-detector/requirements.txt (line 143)) (3.0.1)\n",
      "Requirement already satisfied: wrapt==1.16.0 in /Users/jordanfletorides/Desktop/github repos/ml-mildew-detector/.venv/lib/python3.11/site-packages (from -r /Users/jordanfletorides/Desktop/github repos/ml-mildew-detector/requirements.txt (line 144)) (1.16.0)\n",
      "Requirement already satisfied: wheel<1.0,>=0.23.0 in /Users/jordanfletorides/Desktop/github repos/ml-mildew-detector/.venv/lib/python3.11/site-packages (from astunparse==1.6.3->-r /Users/jordanfletorides/Desktop/github repos/ml-mildew-detector/requirements.txt (line 9)) (0.43.0)\n",
      "Requirement already satisfied: rich in /Users/jordanfletorides/Desktop/github repos/ml-mildew-detector/.venv/lib/python3.11/site-packages (from keras==3.0.5->-r /Users/jordanfletorides/Desktop/github repos/ml-mildew-detector/requirements.txt (line 59)) (13.7.1)\n",
      "Requirement already satisfied: cachetools<6,>=4.0 in /Users/jordanfletorides/Desktop/github repos/ml-mildew-detector/.venv/lib/python3.11/site-packages (from streamlit==1.32.1->-r /Users/jordanfletorides/Desktop/github repos/ml-mildew-detector/requirements.txt (line 118)) (5.3.3)\n",
      "Requirement already satisfied: gitpython!=3.1.19,<4,>=3.0.7 in /Users/jordanfletorides/Desktop/github repos/ml-mildew-detector/.venv/lib/python3.11/site-packages (from streamlit==1.32.1->-r /Users/jordanfletorides/Desktop/github repos/ml-mildew-detector/requirements.txt (line 118)) (3.1.42)\n",
      "Requirement already satisfied: setuptools>=41.0.0 in /Users/jordanfletorides/Desktop/github repos/ml-mildew-detector/.venv/lib/python3.11/site-packages (from tensorboard==2.16.2->-r /Users/jordanfletorides/Desktop/github repos/ml-mildew-detector/requirements.txt (line 120)) (69.0.2)\n",
      "Requirement already satisfied: gitdb<5,>=4.0.1 in /Users/jordanfletorides/Desktop/github repos/ml-mildew-detector/.venv/lib/python3.11/site-packages (from gitpython!=3.1.19,<4,>=3.0.7->streamlit==1.32.1->-r /Users/jordanfletorides/Desktop/github repos/ml-mildew-detector/requirements.txt (line 118)) (4.0.11)\n",
      "Requirement already satisfied: smmap<6,>=3.0.1 in /Users/jordanfletorides/Desktop/github repos/ml-mildew-detector/.venv/lib/python3.11/site-packages (from gitdb<5,>=4.0.1->gitpython!=3.1.19,<4,>=3.0.7->streamlit==1.32.1->-r /Users/jordanfletorides/Desktop/github repos/ml-mildew-detector/requirements.txt (line 118)) (5.0.1)\n",
      "Note: you may need to restart the kernel to use updated packages.\n"
     ]
    }
   ],
   "source": [
    "%pip install -r \"/Users/jordanfletorides/Desktop/github repos/ml-mildew-detector/dev_requirements\""
   ]
  },
  {
   "cell_type": "code",
   "execution_count": 2,
   "metadata": {},
   "outputs": [],
   "source": [
    "import numpy\n",
    "import os"
   ]
  },
  {
   "cell_type": "markdown",
   "metadata": {},
   "source": [
    "---"
   ]
  },
  {
   "cell_type": "markdown",
   "metadata": {},
   "source": [
    "# Change working directory"
   ]
  },
  {
   "cell_type": "markdown",
   "metadata": {},
   "source": [
    "* We are assuming you will store the notebooks in a subfolder, therefore when running the notebook in the editor, you will need to change the working directory"
   ]
  },
  {
   "cell_type": "markdown",
   "metadata": {},
   "source": [
    "We need to change the working directory from its current folder to its parent folder\n",
    "* We access the current directory with os.getcwd()"
   ]
  },
  {
   "cell_type": "code",
   "execution_count": 3,
   "metadata": {},
   "outputs": [
    {
     "data": {
      "text/plain": [
       "'/Users/jordanfletorides/Desktop/github repos/ml-mildew-detector/jupyter_notebooks'"
      ]
     },
     "execution_count": 3,
     "metadata": {},
     "output_type": "execute_result"
    }
   ],
   "source": [
    "current_dir = os.getcwd()\n",
    "current_dir"
   ]
  },
  {
   "cell_type": "markdown",
   "metadata": {},
   "source": [
    "We want to make the parent of the current directory the new current directory\n",
    "* os.path.dirname() gets the parent directory\n",
    "* os.chir() defines the new current directory"
   ]
  },
  {
   "cell_type": "code",
   "execution_count": 4,
   "metadata": {},
   "outputs": [
    {
     "name": "stdout",
     "output_type": "stream",
     "text": [
      "You set a new current directory\n"
     ]
    }
   ],
   "source": [
    "os.chdir(os.path.dirname(current_dir))\n",
    "print(\"You set a new current directory\")"
   ]
  },
  {
   "cell_type": "markdown",
   "metadata": {},
   "source": [
    "Confirm the new current directory"
   ]
  },
  {
   "cell_type": "code",
   "execution_count": 5,
   "metadata": {},
   "outputs": [
    {
     "name": "stdout",
     "output_type": "stream",
     "text": [
      "chmod: inputs/cherry_leaves_dataset: No such file or directory\n"
     ]
    }
   ],
   "source": [
    "current_dir = os.getcwd()\n",
    "current_dir\n",
    "\n",
    "# Changing file permissions (for Unix-like OS)\n",
    "! chmod -R u+w inputs/cherry_leaves_dataset"
   ]
  },
  {
   "cell_type": "markdown",
   "metadata": {},
   "source": [
    "---"
   ]
  },
  {
   "cell_type": "markdown",
   "metadata": {},
   "source": [
    "# Install Kaggle"
   ]
  },
  {
   "cell_type": "code",
   "execution_count": 6,
   "metadata": {},
   "outputs": [
    {
     "name": "stdout",
     "output_type": "stream",
     "text": [
      "Requirement already satisfied: kaggle==1.5.12 in ./.venv/lib/python3.11/site-packages (1.5.12)\n",
      "Requirement already satisfied: six>=1.10 in ./.venv/lib/python3.11/site-packages (from kaggle==1.5.12) (1.16.0)\n",
      "Requirement already satisfied: certifi in ./.venv/lib/python3.11/site-packages (from kaggle==1.5.12) (2024.2.2)\n",
      "Requirement already satisfied: python-dateutil in ./.venv/lib/python3.11/site-packages (from kaggle==1.5.12) (2.9.0.post0)\n",
      "Requirement already satisfied: requests in ./.venv/lib/python3.11/site-packages (from kaggle==1.5.12) (2.31.0)\n",
      "Requirement already satisfied: tqdm in ./.venv/lib/python3.11/site-packages (from kaggle==1.5.12) (4.66.2)\n",
      "Requirement already satisfied: python-slugify in ./.venv/lib/python3.11/site-packages (from kaggle==1.5.12) (8.0.4)\n",
      "Requirement already satisfied: urllib3 in ./.venv/lib/python3.11/site-packages (from kaggle==1.5.12) (2.2.1)\n",
      "Requirement already satisfied: text-unidecode>=1.3 in ./.venv/lib/python3.11/site-packages (from python-slugify->kaggle==1.5.12) (1.3)\n",
      "Requirement already satisfied: charset-normalizer<4,>=2 in ./.venv/lib/python3.11/site-packages (from requests->kaggle==1.5.12) (3.3.2)\n",
      "Requirement already satisfied: idna<4,>=2.5 in ./.venv/lib/python3.11/site-packages (from requests->kaggle==1.5.12) (3.6)\n",
      "Note: you may need to restart the kernel to use updated packages.\n"
     ]
    }
   ],
   "source": [
    "# install kaggle package\n",
    "%pip install kaggle==1.5.12"
   ]
  },
  {
   "cell_type": "markdown",
   "metadata": {},
   "source": [
    "Run the cell below **to change the Kaggle configuration directory to the current working directory and set permissions for the Kaggle authentication JSON**."
   ]
  },
  {
   "cell_type": "code",
   "execution_count": 7,
   "metadata": {},
   "outputs": [],
   "source": [
    "os.environ['KAGGLE_CONFIG_DIR'] = os.getcwd()\n",
    "! chmod 600 kaggle.json"
   ]
  },
  {
   "cell_type": "markdown",
   "metadata": {},
   "source": [
    "* Get the dataset path from the [Kaggle URL](https://www.kaggle.com/datasets/codeinstitute/cherry-leaves/data). When you are viewing the dataset at Kaggle, check what is after https://www.kaggle.com/ (in some cases kaggle.com/datasets). You should copy that at KaggleDatasetPath.\n",
    "* Set your destination folder."
   ]
  },
  {
   "cell_type": "markdown",
   "metadata": {},
   "source": [
    "Set the Kaggle Dataset and Download it."
   ]
  },
  {
   "cell_type": "code",
   "execution_count": 8,
   "metadata": {},
   "outputs": [
    {
     "name": "stdout",
     "output_type": "stream",
     "text": [
      "Downloading cherry-leaves.zip to inputs/cherry_leaves_dataset\n",
      "100%|█████████████████████████████████████▉| 55.0M/55.0M [00:03<00:00, 17.9MB/s]\n",
      "100%|██████████████████████████████████████| 55.0M/55.0M [00:03<00:00, 15.7MB/s]\n"
     ]
    }
   ],
   "source": [
    "KaggleDatasetPath = \"codeinstitute/cherry-leaves/data\"\n",
    "DestinationFolder = \"inputs/cherry_leaves_dataset\"\n",
    "! kaggle datasets download -d {KaggleDatasetPath} -p {DestinationFolder}"
   ]
  },
  {
   "cell_type": "markdown",
   "metadata": {},
   "source": [
    "Unzip the downloaded file, and delete the zip file."
   ]
  },
  {
   "cell_type": "code",
   "execution_count": 9,
   "metadata": {},
   "outputs": [],
   "source": [
    "import zipfile\n",
    "with zipfile.ZipFile(DestinationFolder + '/cherry-leaves.zip', 'r') as zip_ref:\n",
    "    zip_ref.extractall(DestinationFolder)\n",
    "\n",
    "os.remove(DestinationFolder + '/cherry-leaves.zip')"
   ]
  },
  {
   "cell_type": "markdown",
   "metadata": {},
   "source": [
    "---"
   ]
  },
  {
   "cell_type": "markdown",
   "metadata": {},
   "source": [
    "# Data Preparation"
   ]
  },
  {
   "cell_type": "markdown",
   "metadata": {},
   "source": [
    "## Data cleaning"
   ]
  },
  {
   "cell_type": "markdown",
   "metadata": {},
   "source": [
    "### Check and remove non-image files"
   ]
  },
  {
   "cell_type": "code",
   "execution_count": 10,
   "metadata": {},
   "outputs": [],
   "source": [
    "def clear_non_images(root_directory_path):\n",
    "    valid_extensions = ('.png', '.jpg', '.jpeg')  # Lowercase versions of valid extensions\n",
    "    permission_denied_files = []\n",
    "\n",
    "    for root, dirs, files in os.walk(root_directory_path):\n",
    "        image_count, non_image_count = 0, 0\n",
    "        for file in files:\n",
    "            # Convert the file extension to lowercase before comparison to handle both lowercase and uppercase extensions\n",
    "            if file.lower().endswith(valid_extensions):\n",
    "                image_count += 1  # Count as an image file\n",
    "            else:\n",
    "                non_image_path = os.path.join(root, file)  # Full path for non-image files\n",
    "                try:\n",
    "                    os.remove(non_image_path)  # Attempt to remove non-image file\n",
    "                    non_image_count += 1\n",
    "                except PermissionError:\n",
    "                    permission_denied_files.append(non_image_path)  # Record if permission denied\n",
    "\n",
    "        # Reporting\n",
    "        if image_count or non_image_count:\n",
    "            # Only print summary for directories where files were found\n",
    "            print(f\"Processed folder: {root}\")\n",
    "            print(f\"- Image files: {image_count}\")\n",
    "            print(f\"- Non-image files removed: {non_image_count}\")\n",
    "\n",
    "    # Reporting permission issues\n",
    "    if permission_denied_files:\n",
    "        print(\"\\nPermission denied for the following files:\")\n",
    "        for file_path in permission_denied_files:\n",
    "            print(file_path)\n"
   ]
  },
  {
   "cell_type": "code",
   "execution_count": 11,
   "metadata": {},
   "outputs": [
    {
     "name": "stdout",
     "output_type": "stream",
     "text": [
      "Processed folder: inputs/cherry_leaves_dataset/cherry-leaves/powdery_mildew\n",
      "- Image files: 2104\n",
      "- Non-image files removed: 0\n",
      "Processed folder: inputs/cherry_leaves_dataset/cherry-leaves/healthy\n",
      "- Image files: 2104\n",
      "- Non-image files removed: 0\n"
     ]
    }
   ],
   "source": [
    "# Call the function with the base directory path where your dataset folders are located\n",
    "clear_non_images(root_directory_path='inputs/cherry_leaves_dataset/cherry-leaves')"
   ]
  },
  {
   "cell_type": "markdown",
   "metadata": {},
   "source": [
    "## Split train validation test set"
   ]
  },
  {
   "cell_type": "code",
   "execution_count": 12,
   "metadata": {},
   "outputs": [],
   "source": [
    "import shutil\n",
    "import random\n",
    "\n",
    "def distribute_dataset_images_v2(dataset_path, train_ratio, validation_ratio, test_ratio, final_test_ratio):\n",
    "    \"\"\"\n",
    "    Distribute images across train, validation, test, and final test folders based on specified ratios.\n",
    "    \n",
    "    Args:\n",
    "    dataset_path (str): The directory containing the class folders.\n",
    "    train_ratio (float): The proportion of images to be used for the training set.\n",
    "    validation_ratio (float): The proportion of images to be used for the validation set.\n",
    "    test_ratio (float): The proportion of images to be used for the initial test set.\n",
    "    final_test_ratio (float): The proportion of images to be set aside for the final test set.\n",
    "    \"\"\"\n",
    "    # Adjust the ratios to account for the final test set\n",
    "    total = train_ratio + validation_ratio + test_ratio + final_test_ratio\n",
    "    if total != 1.0:\n",
    "        print(\"The sum of ratios must be 1.0.\")\n",
    "        return\n",
    "\n",
    "    try:\n",
    "        categories = [category for category in os.listdir(dataset_path) if os.path.isdir(os.path.join(dataset_path, category))]\n",
    "        \n",
    "        # Creating directories for each subset and category\n",
    "        for subset in ['train', 'validation', 'test', 'final_test']:\n",
    "            subset_path = os.path.join(dataset_path, subset)\n",
    "            for category in categories:\n",
    "                dir_path = os.path.join(subset_path, category)\n",
    "                if not os.path.exists(dir_path):\n",
    "                    os.makedirs(dir_path, exist_ok=True)\n",
    "\n",
    "        # Distributing files\n",
    "        for category in categories:\n",
    "            files = os.listdir(os.path.join(dataset_path, category))\n",
    "            random.shuffle(files)\n",
    "\n",
    "            train_end = int(len(files) * train_ratio)\n",
    "            validation_end = train_end + int(len(files) * validation_ratio)\n",
    "            test_end = validation_end + int(len(files) * test_ratio)\n",
    "\n",
    "            train_files = files[:train_end]\n",
    "            validation_files = files[train_end:validation_end]\n",
    "            test_files = files[validation_end:test_end]\n",
    "            final_test_files = files[test_end:]\n",
    "\n",
    "            # Function to move files to their new location\n",
    "            def move_files(files, subset):\n",
    "                for file_name in files:\n",
    "                    source_path = os.path.join(dataset_path, category, file_name)\n",
    "                    destination_path = os.path.join(dataset_path, subset, category, file_name)\n",
    "                    shutil.move(source_path, destination_path)\n",
    "\n",
    "            # Moving files to respective directories\n",
    "            move_files(train_files, 'train')\n",
    "            move_files(validation_files, 'validation')\n",
    "            move_files(test_files, 'test')\n",
    "            move_files(final_test_files, 'final_test')\n",
    "\n",
    "            # Remove original category directory if empty\n",
    "            if os.listdir(os.path.join(dataset_path, category)) == []:\n",
    "                os.rmdir(os.path.join(dataset_path, category))\n",
    "\n",
    "        print(\"Dataset successfully distributed into train, validation, test, and final test sets.\")\n",
    "    except Exception as e:\n",
    "        print(f\"An error occurred: {e}\")\n"
   ]
  },
  {
   "cell_type": "markdown",
   "metadata": {},
   "source": [
    "Split is as follows:\n",
    "* The training set is divided into a 0.70 ratio of data.\n",
    "* The validation set is divided into a 0.10 ratio of data.\n",
    "* The test set is divided into a 0.15 ratio of data.\n",
    "* The final set is divided into a 0.05 ratio of data."
   ]
  },
  {
   "cell_type": "code",
   "execution_count": 13,
   "metadata": {},
   "outputs": [
    {
     "name": "stdout",
     "output_type": "stream",
     "text": [
      "Dataset successfully distributed into train, validation, test, and final test sets.\n"
     ]
    }
   ],
   "source": [
    "distribute_dataset_images_v2(\n",
    "    dataset_path=\"inputs/cherry_leaves_dataset/cherry-leaves\",\n",
    "    train_ratio=0.7,\n",
    "    validation_ratio=0.1,\n",
    "    test_ratio=0.15,\n",
    "    final_test_ratio=0.05\n",
    ")"
   ]
  },
  {
   "cell_type": "markdown",
   "metadata": {},
   "source": [
    "---"
   ]
  },
  {
   "cell_type": "markdown",
   "metadata": {},
   "source": [
    "# Validation of Directory Structure Creation"
   ]
  },
  {
   "cell_type": "code",
   "execution_count": 14,
   "metadata": {},
   "outputs": [
    {
     "name": "stdout",
     "output_type": "stream",
     "text": [
      "Validating the newly created directory structure for Train, Validation, and Test sets...\n",
      "Root directory: inputs/cherry_leaves_dataset\n",
      "Subdirectories: ['cherry-leaves']\n",
      "\n",
      "Root directory: inputs/cherry_leaves_dataset/cherry-leaves\n",
      "Subdirectories: ['final_test', 'test', 'train', 'validation']\n",
      "\n",
      "Root directory: inputs/cherry_leaves_dataset/cherry-leaves/final_test\n",
      "Subdirectories: ['powdery_mildew', 'healthy']\n",
      "\n",
      "Root directory: inputs/cherry_leaves_dataset/cherry-leaves/test\n",
      "Subdirectories: ['powdery_mildew', 'healthy']\n",
      "\n",
      "Root directory: inputs/cherry_leaves_dataset/cherry-leaves/train\n",
      "Subdirectories: ['powdery_mildew', 'healthy']\n",
      "\n",
      "Root directory: inputs/cherry_leaves_dataset/cherry-leaves/validation\n",
      "Subdirectories: ['powdery_mildew', 'healthy']\n",
      "\n",
      "Directory structure validation completed.\n"
     ]
    }
   ],
   "source": [
    "# Validation of Directory Structure\n",
    "print(\"Validating the newly created directory structure for Train, Validation, and Test sets...\")\n",
    "for root, dirs, files in os.walk(\"inputs/cherry_leaves_dataset\", topdown=True):\n",
    "    if dirs:\n",
    "        print(f\"Root directory: {root}\")\n",
    "        print(f\"Subdirectories: {dirs}\\n\")\n",
    "print(\"Directory structure validation completed.\")\n"
   ]
  },
  {
   "cell_type": "markdown",
   "metadata": {},
   "source": [
    "---"
   ]
  },
  {
   "cell_type": "markdown",
   "metadata": {},
   "source": [
    "# Reflecting on NDAs"
   ]
  },
  {
   "cell_type": "markdown",
   "metadata": {},
   "source": [
    "Before proceeding further, please ensure that the dataset usage complies with any Non-Disclosure Agreements (NDAs) or data use agreements associated with the project. Specifically, check that:\n",
    "\n",
    "- The dataset does not contain any sensitive or proprietary information not cleared for use.\n",
    "- The distribution of the dataset within the project scope does not violate any terms of the NDA.\n",
    "\n",
    "Consult with the project's legal advisor or data governance team if in doubt.\n",
    "\n",
    "---"
   ]
  }
 ],
 "metadata": {
  "kernelspec": {
   "display_name": ".venv",
   "language": "python",
   "name": "python3"
  },
  "language_info": {
   "codemirror_mode": {
    "name": "ipython",
    "version": 3
   },
   "file_extension": ".py",
   "mimetype": "text/x-python",
   "name": "python",
   "nbconvert_exporter": "python",
   "pygments_lexer": "ipython3",
   "version": "3.11.7"
  }
 },
 "nbformat": 4,
 "nbformat_minor": 2
}
